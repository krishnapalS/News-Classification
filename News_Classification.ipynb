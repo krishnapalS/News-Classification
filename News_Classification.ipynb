{
 "cells": [
  {
   "cell_type": "markdown",
   "metadata": {},
   "source": [
    "###  Data set Link\n",
    "#### https://archive.ics.uci.edu/ml/datasets/News+Aggregator"
   ]
  },
  {
   "cell_type": "code",
   "execution_count": 1,
   "metadata": {},
   "outputs": [],
   "source": [
    "import pandas as pd\n",
    "import numpy as np"
   ]
  },
  {
   "cell_type": "code",
   "execution_count": 2,
   "metadata": {},
   "outputs": [],
   "source": [
    "data = pd.read_csv('news_data.csv',nrows=10000)"
   ]
  },
  {
   "cell_type": "code",
   "execution_count": 3,
   "metadata": {
    "scrolled": false
   },
   "outputs": [
    {
     "data": {
      "text/plain": [
       "(10000, 8)"
      ]
     },
     "execution_count": 3,
     "metadata": {},
     "output_type": "execute_result"
    }
   ],
   "source": [
    "data.shape"
   ]
  },
  {
   "cell_type": "code",
   "execution_count": 4,
   "metadata": {
    "collapsed": true
   },
   "outputs": [
    {
     "data": {
      "text/html": [
       "<div>\n",
       "<style scoped>\n",
       "    .dataframe tbody tr th:only-of-type {\n",
       "        vertical-align: middle;\n",
       "    }\n",
       "\n",
       "    .dataframe tbody tr th {\n",
       "        vertical-align: top;\n",
       "    }\n",
       "\n",
       "    .dataframe thead th {\n",
       "        text-align: right;\n",
       "    }\n",
       "</style>\n",
       "<table border=\"1\" class=\"dataframe\">\n",
       "  <thead>\n",
       "    <tr style=\"text-align: right;\">\n",
       "      <th></th>\n",
       "      <th>ID</th>\n",
       "      <th>TITLE</th>\n",
       "      <th>URL</th>\n",
       "      <th>PUBLISHER</th>\n",
       "      <th>CATEGORY</th>\n",
       "      <th>STORY</th>\n",
       "      <th>HOSTNAME</th>\n",
       "      <th>TIMESTAMP</th>\n",
       "    </tr>\n",
       "  </thead>\n",
       "  <tbody>\n",
       "    <tr>\n",
       "      <th>0</th>\n",
       "      <td>1</td>\n",
       "      <td>Fed official says weak data caused by weather,...</td>\n",
       "      <td>http://www.latimes.com/business/money/la-fi-mo...</td>\n",
       "      <td>Los Angeles Times</td>\n",
       "      <td>b</td>\n",
       "      <td>ddUyU0VZz0BRneMioxUPQVP6sIxvM</td>\n",
       "      <td>www.latimes.com</td>\n",
       "      <td>1394470370698</td>\n",
       "    </tr>\n",
       "    <tr>\n",
       "      <th>1</th>\n",
       "      <td>2</td>\n",
       "      <td>Fed's Charles Plosser sees high bar for change...</td>\n",
       "      <td>http://www.livemint.com/Politics/H2EvwJSK2VE6O...</td>\n",
       "      <td>Livemint</td>\n",
       "      <td>b</td>\n",
       "      <td>ddUyU0VZz0BRneMioxUPQVP6sIxvM</td>\n",
       "      <td>www.livemint.com</td>\n",
       "      <td>1394470371207</td>\n",
       "    </tr>\n",
       "    <tr>\n",
       "      <th>2</th>\n",
       "      <td>3</td>\n",
       "      <td>US open: Stocks fall after Fed official hints ...</td>\n",
       "      <td>http://www.ifamagazine.com/news/us-open-stocks...</td>\n",
       "      <td>IFA Magazine</td>\n",
       "      <td>b</td>\n",
       "      <td>ddUyU0VZz0BRneMioxUPQVP6sIxvM</td>\n",
       "      <td>www.ifamagazine.com</td>\n",
       "      <td>1394470371550</td>\n",
       "    </tr>\n",
       "    <tr>\n",
       "      <th>3</th>\n",
       "      <td>4</td>\n",
       "      <td>Fed risks falling 'behind the curve', Charles ...</td>\n",
       "      <td>http://www.ifamagazine.com/news/fed-risks-fall...</td>\n",
       "      <td>IFA Magazine</td>\n",
       "      <td>b</td>\n",
       "      <td>ddUyU0VZz0BRneMioxUPQVP6sIxvM</td>\n",
       "      <td>www.ifamagazine.com</td>\n",
       "      <td>1394470371793</td>\n",
       "    </tr>\n",
       "    <tr>\n",
       "      <th>4</th>\n",
       "      <td>5</td>\n",
       "      <td>Fed's Plosser: Nasty Weather Has Curbed Job Gr...</td>\n",
       "      <td>http://www.moneynews.com/Economy/federal-reser...</td>\n",
       "      <td>Moneynews</td>\n",
       "      <td>b</td>\n",
       "      <td>ddUyU0VZz0BRneMioxUPQVP6sIxvM</td>\n",
       "      <td>www.moneynews.com</td>\n",
       "      <td>1394470372027</td>\n",
       "    </tr>\n",
       "  </tbody>\n",
       "</table>\n",
       "</div>"
      ],
      "text/plain": [
       "   ID                                              TITLE  \\\n",
       "0   1  Fed official says weak data caused by weather,...   \n",
       "1   2  Fed's Charles Plosser sees high bar for change...   \n",
       "2   3  US open: Stocks fall after Fed official hints ...   \n",
       "3   4  Fed risks falling 'behind the curve', Charles ...   \n",
       "4   5  Fed's Plosser: Nasty Weather Has Curbed Job Gr...   \n",
       "\n",
       "                                                 URL          PUBLISHER  \\\n",
       "0  http://www.latimes.com/business/money/la-fi-mo...  Los Angeles Times   \n",
       "1  http://www.livemint.com/Politics/H2EvwJSK2VE6O...           Livemint   \n",
       "2  http://www.ifamagazine.com/news/us-open-stocks...       IFA Magazine   \n",
       "3  http://www.ifamagazine.com/news/fed-risks-fall...       IFA Magazine   \n",
       "4  http://www.moneynews.com/Economy/federal-reser...          Moneynews   \n",
       "\n",
       "  CATEGORY                          STORY             HOSTNAME      TIMESTAMP  \n",
       "0        b  ddUyU0VZz0BRneMioxUPQVP6sIxvM      www.latimes.com  1394470370698  \n",
       "1        b  ddUyU0VZz0BRneMioxUPQVP6sIxvM     www.livemint.com  1394470371207  \n",
       "2        b  ddUyU0VZz0BRneMioxUPQVP6sIxvM  www.ifamagazine.com  1394470371550  \n",
       "3        b  ddUyU0VZz0BRneMioxUPQVP6sIxvM  www.ifamagazine.com  1394470371793  \n",
       "4        b  ddUyU0VZz0BRneMioxUPQVP6sIxvM    www.moneynews.com  1394470372027  "
      ]
     },
     "execution_count": 4,
     "metadata": {},
     "output_type": "execute_result"
    }
   ],
   "source": [
    "data.head()"
   ]
  },
  {
   "cell_type": "code",
   "execution_count": 72,
   "metadata": {},
   "outputs": [
    {
     "data": {
      "text/html": [
       "<div>\n",
       "<style scoped>\n",
       "    .dataframe tbody tr th:only-of-type {\n",
       "        vertical-align: middle;\n",
       "    }\n",
       "\n",
       "    .dataframe tbody tr th {\n",
       "        vertical-align: top;\n",
       "    }\n",
       "\n",
       "    .dataframe thead th {\n",
       "        text-align: right;\n",
       "    }\n",
       "</style>\n",
       "<table border=\"1\" class=\"dataframe\">\n",
       "  <thead>\n",
       "    <tr style=\"text-align: right;\">\n",
       "      <th></th>\n",
       "      <th>ID</th>\n",
       "      <th>TITLE</th>\n",
       "      <th>URL</th>\n",
       "      <th>PUBLISHER</th>\n",
       "      <th>CATEGORY</th>\n",
       "      <th>STORY</th>\n",
       "      <th>HOSTNAME</th>\n",
       "      <th>TIMESTAMP</th>\n",
       "    </tr>\n",
       "  </thead>\n",
       "  <tbody>\n",
       "    <tr>\n",
       "      <th>2169</th>\n",
       "      <td>2170</td>\n",
       "      <td>George Zimmerman Has an Armed Life on the Move</td>\n",
       "      <td>http://www.wltx.com/story/news/nation/2014/03/...</td>\n",
       "      <td>WLTX.com</td>\n",
       "      <td>e</td>\n",
       "      <td>d7RBEwyH92gFSrMjpl764nNfewB0M</td>\n",
       "      <td>www.wltx.com</td>\n",
       "      <td>1394517154092</td>\n",
       "    </tr>\n",
       "    <tr>\n",
       "      <th>2170</th>\n",
       "      <td>2171</td>\n",
       "      <td>George Zimmerman Signs Autographs At Florida G...</td>\n",
       "      <td>http://www.huffingtonpost.co.uk/2014/03/10/geo...</td>\n",
       "      <td>Huffington Post UK</td>\n",
       "      <td>e</td>\n",
       "      <td>d7RBEwyH92gFSrMjpl764nNfewB0M</td>\n",
       "      <td>www.huffingtonpost.co.uk</td>\n",
       "      <td>1394517154269</td>\n",
       "    </tr>\n",
       "    <tr>\n",
       "      <th>2171</th>\n",
       "      <td>2172</td>\n",
       "      <td>George Zimmerman Signed Autographs at an Orlan...</td>\n",
       "      <td>http://www.blacknews.com/news/george-zimmerman...</td>\n",
       "      <td>BlackNews.com \\(press release\\)</td>\n",
       "      <td>e</td>\n",
       "      <td>d7RBEwyH92gFSrMjpl764nNfewB0M</td>\n",
       "      <td>www.blacknews.com</td>\n",
       "      <td>1394517154479</td>\n",
       "    </tr>\n",
       "    <tr>\n",
       "      <th>2172</th>\n",
       "      <td>2173</td>\n",
       "      <td>George Zimmerman back in controversy</td>\n",
       "      <td>http://www.wtxl.com/news/florida_news/george-z...</td>\n",
       "      <td>WTXL ABC 27</td>\n",
       "      <td>e</td>\n",
       "      <td>d7RBEwyH92gFSrMjpl764nNfewB0M</td>\n",
       "      <td>www.wtxl.com</td>\n",
       "      <td>1394517154639</td>\n",
       "    </tr>\n",
       "    <tr>\n",
       "      <th>2173</th>\n",
       "      <td>2174</td>\n",
       "      <td>George Zimmerman signs autographs at a Florida...</td>\n",
       "      <td>http://www.msnbc.com/the-last-word/zimmerman-s...</td>\n",
       "      <td>MSNBC</td>\n",
       "      <td>e</td>\n",
       "      <td>d7RBEwyH92gFSrMjpl764nNfewB0M</td>\n",
       "      <td>www.msnbc.com</td>\n",
       "      <td>1394517154831</td>\n",
       "    </tr>\n",
       "    <tr>\n",
       "      <th>...</th>\n",
       "      <td>...</td>\n",
       "      <td>...</td>\n",
       "      <td>...</td>\n",
       "      <td>...</td>\n",
       "      <td>...</td>\n",
       "      <td>...</td>\n",
       "      <td>...</td>\n",
       "      <td>...</td>\n",
       "    </tr>\n",
       "    <tr>\n",
       "      <th>7645</th>\n",
       "      <td>7646</td>\n",
       "      <td>PonoMusic to reportedly will kick off Kickstar...</td>\n",
       "      <td>http://www.talkingnewmedia.com/2014/03/10/pono...</td>\n",
       "      <td>Talking New Media</td>\n",
       "      <td>e</td>\n",
       "      <td>d4PJFa1co3Mku-MxjwCHHW7xLx1pM</td>\n",
       "      <td>www.talkingnewmedia.com</td>\n",
       "      <td>1394620447404</td>\n",
       "    </tr>\n",
       "    <tr>\n",
       "      <th>7646</th>\n",
       "      <td>7647</td>\n",
       "      <td>Pono music player to debut on Kickstarter</td>\n",
       "      <td>http://www.cnet.com.au/pono-music-player-to-de...</td>\n",
       "      <td>CNET Australia</td>\n",
       "      <td>e</td>\n",
       "      <td>d4PJFa1co3Mku-MxjwCHHW7xLx1pM</td>\n",
       "      <td>www.cnet.com.au</td>\n",
       "      <td>1394620447586</td>\n",
       "    </tr>\n",
       "    <tr>\n",
       "      <th>7647</th>\n",
       "      <td>7648</td>\n",
       "      <td>Neil Young's High Fidelity PonoPlayer To Launc...</td>\n",
       "      <td>http://www.ubergizmo.com/2014/03/neil-youngs-h...</td>\n",
       "      <td>Ubergizmo</td>\n",
       "      <td>e</td>\n",
       "      <td>d4PJFa1co3Mku-MxjwCHHW7xLx1pM</td>\n",
       "      <td>www.ubergizmo.com</td>\n",
       "      <td>1394620447780</td>\n",
       "    </tr>\n",
       "    <tr>\n",
       "      <th>7648</th>\n",
       "      <td>7649</td>\n",
       "      <td>Neil Young launching $399 high-fidelity audio ...</td>\n",
       "      <td>http://www.pocket-lint.com/news/127775-neil-yo...</td>\n",
       "      <td>Pocket-lint.com</td>\n",
       "      <td>e</td>\n",
       "      <td>d4PJFa1co3Mku-MxjwCHHW7xLx1pM</td>\n",
       "      <td>www.pocket-lint.com</td>\n",
       "      <td>1394620448042</td>\n",
       "    </tr>\n",
       "    <tr>\n",
       "      <th>7649</th>\n",
       "      <td>7650</td>\n",
       "      <td>Neil Young To Launch PonoMusic at SXSW on Kick...</td>\n",
       "      <td>http://evolver.fm/2014/03/09/neil-young-to-lau...</td>\n",
       "      <td>Evolver.fm</td>\n",
       "      <td>e</td>\n",
       "      <td>d4PJFa1co3Mku-MxjwCHHW7xLx1pM</td>\n",
       "      <td>evolver.fm</td>\n",
       "      <td>1394620448235</td>\n",
       "    </tr>\n",
       "  </tbody>\n",
       "</table>\n",
       "<p>3472 rows × 8 columns</p>\n",
       "</div>"
      ],
      "text/plain": [
       "        ID                                              TITLE  \\\n",
       "2169  2170     George Zimmerman Has an Armed Life on the Move   \n",
       "2170  2171  George Zimmerman Signs Autographs At Florida G...   \n",
       "2171  2172  George Zimmerman Signed Autographs at an Orlan...   \n",
       "2172  2173               George Zimmerman back in controversy   \n",
       "2173  2174  George Zimmerman signs autographs at a Florida...   \n",
       "...    ...                                                ...   \n",
       "7645  7646  PonoMusic to reportedly will kick off Kickstar...   \n",
       "7646  7647          Pono music player to debut on Kickstarter   \n",
       "7647  7648  Neil Young's High Fidelity PonoPlayer To Launc...   \n",
       "7648  7649  Neil Young launching $399 high-fidelity audio ...   \n",
       "7649  7650  Neil Young To Launch PonoMusic at SXSW on Kick...   \n",
       "\n",
       "                                                    URL  \\\n",
       "2169  http://www.wltx.com/story/news/nation/2014/03/...   \n",
       "2170  http://www.huffingtonpost.co.uk/2014/03/10/geo...   \n",
       "2171  http://www.blacknews.com/news/george-zimmerman...   \n",
       "2172  http://www.wtxl.com/news/florida_news/george-z...   \n",
       "2173  http://www.msnbc.com/the-last-word/zimmerman-s...   \n",
       "...                                                 ...   \n",
       "7645  http://www.talkingnewmedia.com/2014/03/10/pono...   \n",
       "7646  http://www.cnet.com.au/pono-music-player-to-de...   \n",
       "7647  http://www.ubergizmo.com/2014/03/neil-youngs-h...   \n",
       "7648  http://www.pocket-lint.com/news/127775-neil-yo...   \n",
       "7649  http://evolver.fm/2014/03/09/neil-young-to-lau...   \n",
       "\n",
       "                            PUBLISHER CATEGORY                          STORY  \\\n",
       "2169                         WLTX.com        e  d7RBEwyH92gFSrMjpl764nNfewB0M   \n",
       "2170               Huffington Post UK        e  d7RBEwyH92gFSrMjpl764nNfewB0M   \n",
       "2171  BlackNews.com \\(press release\\)        e  d7RBEwyH92gFSrMjpl764nNfewB0M   \n",
       "2172                      WTXL ABC 27        e  d7RBEwyH92gFSrMjpl764nNfewB0M   \n",
       "2173                            MSNBC        e  d7RBEwyH92gFSrMjpl764nNfewB0M   \n",
       "...                               ...      ...                            ...   \n",
       "7645                Talking New Media        e  d4PJFa1co3Mku-MxjwCHHW7xLx1pM   \n",
       "7646                   CNET Australia        e  d4PJFa1co3Mku-MxjwCHHW7xLx1pM   \n",
       "7647                        Ubergizmo        e  d4PJFa1co3Mku-MxjwCHHW7xLx1pM   \n",
       "7648                  Pocket-lint.com        e  d4PJFa1co3Mku-MxjwCHHW7xLx1pM   \n",
       "7649                       Evolver.fm        e  d4PJFa1co3Mku-MxjwCHHW7xLx1pM   \n",
       "\n",
       "                      HOSTNAME      TIMESTAMP  \n",
       "2169              www.wltx.com  1394517154092  \n",
       "2170  www.huffingtonpost.co.uk  1394517154269  \n",
       "2171         www.blacknews.com  1394517154479  \n",
       "2172              www.wtxl.com  1394517154639  \n",
       "2173             www.msnbc.com  1394517154831  \n",
       "...                        ...            ...  \n",
       "7645   www.talkingnewmedia.com  1394620447404  \n",
       "7646           www.cnet.com.au  1394620447586  \n",
       "7647         www.ubergizmo.com  1394620447780  \n",
       "7648       www.pocket-lint.com  1394620448042  \n",
       "7649                evolver.fm  1394620448235  \n",
       "\n",
       "[3472 rows x 8 columns]"
      ]
     },
     "execution_count": 72,
     "metadata": {},
     "output_type": "execute_result"
    }
   ],
   "source": [
    "data[data['CATEGORY'] == 'e']"
   ]
  },
  {
   "cell_type": "code",
   "execution_count": 5,
   "metadata": {},
   "outputs": [],
   "source": [
    "news_data = data[['TITLE','PUBLISHER','CATEGORY']]"
   ]
  },
  {
   "cell_type": "code",
   "execution_count": 6,
   "metadata": {},
   "outputs": [
    {
     "data": {
      "text/html": [
       "<div>\n",
       "<style scoped>\n",
       "    .dataframe tbody tr th:only-of-type {\n",
       "        vertical-align: middle;\n",
       "    }\n",
       "\n",
       "    .dataframe tbody tr th {\n",
       "        vertical-align: top;\n",
       "    }\n",
       "\n",
       "    .dataframe thead th {\n",
       "        text-align: right;\n",
       "    }\n",
       "</style>\n",
       "<table border=\"1\" class=\"dataframe\">\n",
       "  <thead>\n",
       "    <tr style=\"text-align: right;\">\n",
       "      <th></th>\n",
       "      <th>TITLE</th>\n",
       "      <th>PUBLISHER</th>\n",
       "      <th>CATEGORY</th>\n",
       "    </tr>\n",
       "  </thead>\n",
       "  <tbody>\n",
       "    <tr>\n",
       "      <th>0</th>\n",
       "      <td>Fed official says weak data caused by weather,...</td>\n",
       "      <td>Los Angeles Times</td>\n",
       "      <td>b</td>\n",
       "    </tr>\n",
       "    <tr>\n",
       "      <th>1</th>\n",
       "      <td>Fed's Charles Plosser sees high bar for change...</td>\n",
       "      <td>Livemint</td>\n",
       "      <td>b</td>\n",
       "    </tr>\n",
       "    <tr>\n",
       "      <th>2</th>\n",
       "      <td>US open: Stocks fall after Fed official hints ...</td>\n",
       "      <td>IFA Magazine</td>\n",
       "      <td>b</td>\n",
       "    </tr>\n",
       "    <tr>\n",
       "      <th>3</th>\n",
       "      <td>Fed risks falling 'behind the curve', Charles ...</td>\n",
       "      <td>IFA Magazine</td>\n",
       "      <td>b</td>\n",
       "    </tr>\n",
       "    <tr>\n",
       "      <th>4</th>\n",
       "      <td>Fed's Plosser: Nasty Weather Has Curbed Job Gr...</td>\n",
       "      <td>Moneynews</td>\n",
       "      <td>b</td>\n",
       "    </tr>\n",
       "  </tbody>\n",
       "</table>\n",
       "</div>"
      ],
      "text/plain": [
       "                                               TITLE          PUBLISHER  \\\n",
       "0  Fed official says weak data caused by weather,...  Los Angeles Times   \n",
       "1  Fed's Charles Plosser sees high bar for change...           Livemint   \n",
       "2  US open: Stocks fall after Fed official hints ...       IFA Magazine   \n",
       "3  Fed risks falling 'behind the curve', Charles ...       IFA Magazine   \n",
       "4  Fed's Plosser: Nasty Weather Has Curbed Job Gr...          Moneynews   \n",
       "\n",
       "  CATEGORY  \n",
       "0        b  \n",
       "1        b  \n",
       "2        b  \n",
       "3        b  \n",
       "4        b  "
      ]
     },
     "execution_count": 6,
     "metadata": {},
     "output_type": "execute_result"
    }
   ],
   "source": [
    "news_data.head()"
   ]
  },
  {
   "cell_type": "code",
   "execution_count": 7,
   "metadata": {},
   "outputs": [
    {
     "data": {
      "text/plain": [
       "e    3472\n",
       "b    3449\n",
       "t    2282\n",
       "m     797\n",
       "Name: CATEGORY, dtype: int64"
      ]
     },
     "execution_count": 7,
     "metadata": {},
     "output_type": "execute_result"
    }
   ],
   "source": [
    "news_data['CATEGORY'].value_counts()"
   ]
  },
  {
   "cell_type": "code",
   "execution_count": 8,
   "metadata": {},
   "outputs": [
    {
     "data": {
      "text/plain": [
       "TITLE        0\n",
       "PUBLISHER    1\n",
       "CATEGORY     0\n",
       "dtype: int64"
      ]
     },
     "execution_count": 8,
     "metadata": {},
     "output_type": "execute_result"
    }
   ],
   "source": [
    "news_data.isnull().sum()"
   ]
  },
  {
   "cell_type": "markdown",
   "metadata": {},
   "source": [
    "### Tokenization "
   ]
  },
  {
   "cell_type": "code",
   "execution_count": 9,
   "metadata": {},
   "outputs": [],
   "source": [
    "import string\n",
    "punct = string.punctuation"
   ]
  },
  {
   "cell_type": "code",
   "execution_count": null,
   "metadata": {},
   "outputs": [],
   "source": [
    "pucnt"
   ]
  },
  {
   "cell_type": "markdown",
   "metadata": {},
   "source": [
    "### Data Cleaning "
   ]
  },
  {
   "cell_type": "code",
   "execution_count": 10,
   "metadata": {},
   "outputs": [],
   "source": [
    "import spacy\n",
    "from sklearn.feature_extraction.text import TfidfVectorizer\n",
    "from sklearn.pipeline import Pipeline\n",
    "from sklearn.model_selection import train_test_split\n",
    "from sklearn.metrics import accuracy_score,classification_report,confusion_matrix"
   ]
  },
  {
   "cell_type": "code",
   "execution_count": 11,
   "metadata": {},
   "outputs": [],
   "source": [
    "from spacy.lang.en.stop_words import STOP_WORDS"
   ]
  },
  {
   "cell_type": "code",
   "execution_count": 12,
   "metadata": {},
   "outputs": [],
   "source": [
    "nlp = spacy.load('en')"
   ]
  },
  {
   "cell_type": "code",
   "execution_count": 13,
   "metadata": {},
   "outputs": [],
   "source": [
    "stopwords = list(STOP_WORDS)"
   ]
  },
  {
   "cell_type": "code",
   "execution_count": 14,
   "metadata": {},
   "outputs": [],
   "source": [
    "def text_data_cleaning(sentence):\n",
    "    doc = nlp(sentence)\n",
    "    \n",
    "    tokens = []\n",
    "    for token in doc:\n",
    "        if token.lemma_ != '-PRON-':\n",
    "            temp = token.lemma_.lower().strip()\n",
    "        else:\n",
    "            temp = token.lower_\n",
    "        tokens.append(temp)\n",
    "        \n",
    "    cleaned_tokens = []\n",
    "    for token in tokens:\n",
    "        if token not in stopwords and token not in punct:\n",
    "            cleaned_tokens.append(token)\n",
    "    return cleaned_tokens"
   ]
  },
  {
   "cell_type": "code",
   "execution_count": 15,
   "metadata": {},
   "outputs": [
    {
     "data": {
      "text/plain": [
       "['tis', 'good', 'himansuh']"
      ]
     },
     "execution_count": 15,
     "metadata": {},
     "output_type": "execute_result"
    }
   ],
   "source": [
    "text_data_cleaning(\"  tis is the best in the Himansuh\")"
   ]
  },
  {
   "cell_type": "markdown",
   "metadata": {},
   "source": [
    "### Classification "
   ]
  },
  {
   "cell_type": "code",
   "execution_count": 16,
   "metadata": {},
   "outputs": [],
   "source": [
    "from sklearn.svm import LinearSVC"
   ]
  },
  {
   "cell_type": "code",
   "execution_count": 17,
   "metadata": {},
   "outputs": [],
   "source": [
    "tfidf = TfidfVectorizer(tokenizer=text_data_cleaning)\n",
    "classifier = LinearSVC()"
   ]
  },
  {
   "cell_type": "code",
   "execution_count": 30,
   "metadata": {},
   "outputs": [],
   "source": [
    "X = news_data['TITLE']\n",
    "y = news_data['CATEGORY']"
   ]
  },
  {
   "cell_type": "code",
   "execution_count": 31,
   "metadata": {},
   "outputs": [],
   "source": [
    "X_train,X_test,y_train,y_test = train_test_split(X,y,test_size=0.2,random_state=6)"
   ]
  },
  {
   "cell_type": "code",
   "execution_count": 32,
   "metadata": {},
   "outputs": [
    {
     "data": {
      "text/plain": [
       "((8000,), (8000,))"
      ]
     },
     "execution_count": 32,
     "metadata": {},
     "output_type": "execute_result"
    }
   ],
   "source": [
    "X_train.shape, y_train.shape"
   ]
  },
  {
   "cell_type": "code",
   "execution_count": 33,
   "metadata": {},
   "outputs": [],
   "source": [
    "clf = Pipeline([('tfidf',tfidf),('clf',classifier)])"
   ]
  },
  {
   "cell_type": "code",
   "execution_count": 34,
   "metadata": {
    "scrolled": true
   },
   "outputs": [
    {
     "data": {
      "text/plain": [
       "8247    m\n",
       "705     b\n",
       "4451    b\n",
       "4328    b\n",
       "3882    e\n",
       "Name: CATEGORY, dtype: object"
      ]
     },
     "execution_count": 34,
     "metadata": {},
     "output_type": "execute_result"
    }
   ],
   "source": [
    "y_train.head()\n"
   ]
  },
  {
   "cell_type": "code",
   "execution_count": 35,
   "metadata": {
    "collapsed": true
   },
   "outputs": [
    {
     "data": {
      "text/plain": [
       "Pipeline(memory=None,\n",
       "     steps=[('tfidf', TfidfVectorizer(analyzer='word', binary=False, decode_error='strict',\n",
       "        dtype=<class 'numpy.float64'>, encoding='utf-8', input='content',\n",
       "        lowercase=True, max_df=1.0, max_features=None, min_df=1,\n",
       "        ngram_range=(1, 1), norm='l2', preprocessor=None, smooth_idf=True,...ax_iter=1000,\n",
       "     multi_class='ovr', penalty='l2', random_state=None, tol=0.0001,\n",
       "     verbose=0))])"
      ]
     },
     "execution_count": 35,
     "metadata": {},
     "output_type": "execute_result"
    }
   ],
   "source": [
    "clf.fit(X_train,y_train)"
   ]
  },
  {
   "cell_type": "markdown",
   "metadata": {},
   "source": [
    "### one of: -- b : business -- t : science and technology -- e : entertainment -- m : health "
   ]
  },
  {
   "cell_type": "code",
   "execution_count": 90,
   "metadata": {},
   "outputs": [],
   "source": [
    "text = '''\n",
    "\n",
    "'''"
   ]
  },
  {
   "cell_type": "code",
   "execution_count": 91,
   "metadata": {},
   "outputs": [
    {
     "name": "stdout",
     "output_type": "stream",
     "text": [
      "Health\n"
     ]
    }
   ],
   "source": [
    "pred = clf.predict([text])\n",
    "if pred == 'b':\n",
    "    print(\"Business News\")\n",
    "elif pred == 't':\n",
    "    print(\"Science and Technology\")\n",
    "elif pred == 'e':\n",
    "    print(\"Entertainment\")\n",
    "elif pred == 'm':\n",
    "    print(\"Health\")"
   ]
  },
  {
   "cell_type": "code",
   "execution_count": 51,
   "metadata": {},
   "outputs": [
    {
     "data": {
      "text/plain": [
       "0.9655"
      ]
     },
     "execution_count": 51,
     "metadata": {},
     "output_type": "execute_result"
    }
   ],
   "source": [
    "accuracy_score(y_test,clf.predict(X_test))"
   ]
  },
  {
   "cell_type": "code",
   "execution_count": 53,
   "metadata": {},
   "outputs": [
    {
     "name": "stdout",
     "output_type": "stream",
     "text": [
      "              precision    recall  f1-score   support\n",
      "\n",
      "           b       0.93      0.98      0.95       652\n",
      "           e       1.00      0.98      0.99       709\n",
      "           m       0.99      0.95      0.97       162\n",
      "           t       0.96      0.93      0.94       477\n",
      "\n",
      "   micro avg       0.97      0.97      0.97      2000\n",
      "   macro avg       0.97      0.96      0.96      2000\n",
      "weighted avg       0.97      0.97      0.97      2000\n",
      "\n"
     ]
    }
   ],
   "source": [
    "print(classification_report(y_test,clf.predict(X_test)))"
   ]
  },
  {
   "cell_type": "markdown",
   "metadata": {},
   "source": [
    "### Model Save "
   ]
  },
  {
   "cell_type": "code",
   "execution_count": 66,
   "metadata": {},
   "outputs": [],
   "source": [
    "from sklearn.externals import joblib"
   ]
  },
  {
   "cell_type": "code",
   "execution_count": 67,
   "metadata": {},
   "outputs": [
    {
     "data": {
      "text/plain": [
       "['news_classifier.pkl']"
      ]
     },
     "execution_count": 67,
     "metadata": {},
     "output_type": "execute_result"
    }
   ],
   "source": [
    "joblib.dump(clf,'news_classifier.pkl')"
   ]
  },
  {
   "cell_type": "code",
   "execution_count": null,
   "metadata": {},
   "outputs": [],
   "source": []
  },
  {
   "cell_type": "code",
   "execution_count": null,
   "metadata": {},
   "outputs": [],
   "source": []
  },
  {
   "cell_type": "code",
   "execution_count": null,
   "metadata": {},
   "outputs": [],
   "source": []
  },
  {
   "cell_type": "code",
   "execution_count": null,
   "metadata": {},
   "outputs": [],
   "source": []
  },
  {
   "cell_type": "code",
   "execution_count": null,
   "metadata": {},
   "outputs": [],
   "source": []
  }
 ],
 "metadata": {
  "kernelspec": {
   "display_name": "Python 3",
   "language": "python",
   "name": "python3"
  },
  "language_info": {
   "codemirror_mode": {
    "name": "ipython",
    "version": 3
   },
   "file_extension": ".py",
   "mimetype": "text/x-python",
   "name": "python",
   "nbconvert_exporter": "python",
   "pygments_lexer": "ipython3",
   "version": "3.7.5"
  }
 },
 "nbformat": 4,
 "nbformat_minor": 2
}
